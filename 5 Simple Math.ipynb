{
 "cells": [
  {
   "cell_type": "markdown",
   "id": "db59aba4",
   "metadata": {},
   "source": [
    "You’ll often write programs that deal with numbers. And depending on the programming language you use, you’ll have to convert the inputs you get to numerical data types."
   ]
  },
  {
   "cell_type": "markdown",
   "id": "dc275953",
   "metadata": {},
   "source": [
    "### Write a program that prompts for two numbers. Print the sum, difference, product, and quotient of those numbers as shown in the example output:"
   ]
  },
  {
   "cell_type": "markdown",
   "id": "816c5468",
   "metadata": {},
   "source": [
    "__Example Output__\n",
    "\n",
    "What is the first number? 10\n",
    "\n",
    "What is the second number? 5\n",
    "\n",
    "10 + 5 = 15\n",
    "\n",
    "10 - 5 = 5\n",
    "\n",
    "10 * 5 = 50\n",
    "\n",
    "10 / 5 = 2\n",
    "\n",
    "__Constraints__\n",
    "\n",
    "• Values coming from users will be strings. Ensure that you convert these values to numbers before doing the math.\n",
    "\n",
    "• Keep the inputs and outputs separate from the numerical conversions and other processing.\n",
    "\n",
    "• Generate a single output statement with line breaks in the appropriate spots."
   ]
  },
  {
   "cell_type": "code",
   "execution_count": 1,
   "id": "9b77e544",
   "metadata": {},
   "outputs": [
    {
     "name": "stdout",
     "output_type": "stream",
     "text": [
      "10\n",
      "5\n",
      "10 + 5 = 15 \n",
      " 10 - 5 = 5 \n",
      " 10 * 5 = 50 \n",
      " 10 / 5 = 2.0\n"
     ]
    }
   ],
   "source": [
    "a = input()\n",
    "b = input()\n",
    "sum = int(a)+int(b)\n",
    "sub = int(a)-int(b)\n",
    "mul = int(a)*int(b)\n",
    "div = int(a)/int(b)\n",
    "print(a,'+',b,\"=\",sum,\n",
    "    '\\n',a,'-',b,\"=\",sub,\n",
    "    '\\n',a,'*',b,\"=\",mul,\n",
    "    '\\n',a,'/',b,\"=\",div)"
   ]
  },
  {
   "cell_type": "code",
   "execution_count": 2,
   "id": "02f452b4",
   "metadata": {},
   "outputs": [
    {
     "name": "stdout",
     "output_type": "stream",
     "text": [
      "965\n",
      "13\n",
      "965 + 13 = 978 \n",
      " 965 - 13 = 952 \n",
      " 965 * 13 = 12545 \n",
      " 965 / 13 = 74.23076923076923\n"
     ]
    }
   ],
   "source": [
    "a = input()\n",
    "b = input()\n",
    "sum = int(a)+int(b)\n",
    "sub = int(a)-int(b)\n",
    "mul = int(a)*int(b)\n",
    "div = int(a)/int(b)\n",
    "print(a,'+',b,\"=\",sum,\n",
    "    '\\n',a,'-',b,\"=\",sub,\n",
    "    '\\n',a,'*',b,\"=\",mul,\n",
    "    '\\n',a,'/',b,\"=\",div)"
   ]
  },
  {
   "cell_type": "markdown",
   "id": "c03a496b",
   "metadata": {},
   "source": [
    "__Challenges__\n",
    "\n",
    "• Revise the program to ensure that inputs are entered as numeric values. Don’t allow the user to proceed if the value entered is not numeric.\n",
    "\n",
    "• Don’t allow the user to enter a negative number."
   ]
  },
  {
   "cell_type": "code",
   "execution_count": 6,
   "id": "b006d302",
   "metadata": {},
   "outputs": [
    {
     "name": "stdout",
     "output_type": "stream",
     "text": [
      "121\n",
      "-11\n",
      "Input positive numbers only, try again!\n",
      "-300\n",
      "5\n",
      "Input positive numbers only, try again!\n",
      "121\n",
      "7\n",
      "121 + 7 = 128 \n",
      " 121 - 7 = 114 \n",
      " 121 * 7 = 847 \n",
      " 121 / 7 = 17.285714285714285\n"
     ]
    }
   ],
   "source": [
    "a = int(input())\n",
    "b = int(input())\n",
    "while a<0 or b < 0:\n",
    "    print('Input positive numbers only, try again!')\n",
    "    a = int(input())\n",
    "    b = int(input())\n",
    "    continue\n",
    "    \n",
    "print(a,'+',b,\"=\",a+b,\n",
    "    '\\n',a,'-',b,\"=\",a-b,\n",
    "    '\\n',a,'*',b,\"=\",a*b,\n",
    "    '\\n',a,'/',b,\"=\",a/b)"
   ]
  },
  {
   "cell_type": "code",
   "execution_count": null,
   "id": "2e5a249d",
   "metadata": {},
   "outputs": [],
   "source": []
  }
 ],
 "metadata": {
  "kernelspec": {
   "display_name": "Python 3",
   "language": "python",
   "name": "python3"
  },
  "language_info": {
   "codemirror_mode": {
    "name": "ipython",
    "version": 3
   },
   "file_extension": ".py",
   "mimetype": "text/x-python",
   "name": "python",
   "nbconvert_exporter": "python",
   "pygments_lexer": "ipython3",
   "version": "3.8.8"
  }
 },
 "nbformat": 4,
 "nbformat_minor": 5
}
