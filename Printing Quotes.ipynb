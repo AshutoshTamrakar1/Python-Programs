{
 "cells": [
  {
   "cell_type": "markdown",
   "id": "0f200217",
   "metadata": {},
   "source": [
    "Quotation marks are often used to denote the start and end of a string. But sometimes we need to print out the quotation marks themselves by using escape characters."
   ]
  },
  {
   "cell_type": "markdown",
   "id": "3ad5bd1e",
   "metadata": {},
   "source": [
    "### Create a program that prompts for a quote and an author. Display the quotation and author as shown in the example output."
   ]
  },
  {
   "cell_type": "markdown",
   "id": "d53c1e21",
   "metadata": {},
   "source": [
    "__Example Output__\n",
    "\n",
    "What is the quote? These aren't the droids you're looking for.\n",
    "\n",
    "Who said it? Obi-Wan Kenobi\n",
    "\n",
    "Obi-Wan Kenobi says, \"These aren't the droids you're looking for.\""
   ]
  },
  {
   "cell_type": "markdown",
   "id": "9cce32b1",
   "metadata": {},
   "source": [
    "__Constraints__\n",
    "\n",
    "• Use a single output statement to produce this output, using appropriate string-escaping techniques for quotes.\n",
    "\n",
    "• If your language supports string interpolation or string substitution, don’t use it for this exercise. Use string concatenation instead."
   ]
  },
  {
   "cell_type": "code",
   "execution_count": 1,
   "id": "9711c428",
   "metadata": {},
   "outputs": [
    {
     "name": "stdout",
     "output_type": "stream",
     "text": [
      "What is the quote? These aren't the droids you're looking for.\n",
      "Who said it? Obi-Wan Kenobi\n",
      "Obi-Wan Kenobi says,'These aren't the droids you're looking for.'\n"
     ]
    }
   ],
   "source": [
    "quote = input(\"What is the quote? \")\n",
    "author = input(\"Who said it? \")\n",
    "print(author,\"says,'{}'\".format(quote))"
   ]
  },
  {
   "cell_type": "code",
   "execution_count": 2,
   "id": "e4c710e8",
   "metadata": {},
   "outputs": [
    {
     "name": "stdout",
     "output_type": "stream",
     "text": [
      "What is the quote? Life is like a box of chocolates. You never know what you’re going to get.\n",
      "Who said it? Forrest Gump\n",
      "Forrest Gump once said,'Life is like a box of chocolates. You never know what you’re going to get.'\n"
     ]
    }
   ],
   "source": [
    "quote = input(\"What is the quote? \")\n",
    "author = input(\"Who said it? \")\n",
    "print(author,\"once said,'{}'\".format(quote))"
   ]
  }
 ],
 "metadata": {
  "kernelspec": {
   "display_name": "Python 3",
   "language": "python",
   "name": "python3"
  },
  "language_info": {
   "codemirror_mode": {
    "name": "ipython",
    "version": 3
   },
   "file_extension": ".py",
   "mimetype": "text/x-python",
   "name": "python",
   "nbconvert_exporter": "python",
   "pygments_lexer": "ipython3",
   "version": "3.8.8"
  }
 },
 "nbformat": 4,
 "nbformat_minor": 5
}
