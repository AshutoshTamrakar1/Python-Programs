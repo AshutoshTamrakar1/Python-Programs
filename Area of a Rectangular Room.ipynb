{
 "cells": [
  {
   "cell_type": "markdown",
   "id": "efd4b0a5",
   "metadata": {},
   "source": [
    "### Create a program that calculates the area of a room. Prompt the user for the length and width of the room in feet. Then display the area in both square feet and square meters."
   ]
  },
  {
   "cell_type": "markdown",
   "id": "a6ca4e7a",
   "metadata": {},
   "source": [
    "__Example Output__\n",
    "\n",
    "What is the length of the room in feet? 15\n",
    "\n",
    "What is the width of the room in feet? 20\n",
    "\n",
    "You entered dimensions of 15 feet by 20 feet.\n",
    "\n",
    "The area is\n",
    "\n",
    "300 square feet\n",
    "\n",
    "27.871 square meters\n",
    "\n",
    "\n",
    "\n",
    "__The formula for this conversion is\n",
    "m^2 = f^2 × 0.09290304__\n",
    "\n",
    "\n",
    "__Constraints__\n",
    "\n",
    "• Keep the calculations separate from the output.\n",
    "\n",
    "• Use a constant to hold the conversion factor."
   ]
  },
  {
   "cell_type": "code",
   "execution_count": 1,
   "id": "750adca1",
   "metadata": {},
   "outputs": [
    {
     "name": "stdout",
     "output_type": "stream",
     "text": [
      "What is the length of the room in feet? 15\n",
      "What is the width of the room in feet? 20\n",
      "You entered dimensions of  15 feet by 20 feet.\n",
      "The area is \n",
      " 300 square feet \n",
      " 27.871 square meters\n"
     ]
    }
   ],
   "source": [
    "l = int(input(\"What is the length of the room in feet? \"))\n",
    "b = int(input(\"What is the width of the room in feet? \"))\n",
    "print(\"You entered dimensions of \",l,\"feet by\",b,\"feet.\")\n",
    "print(\"The area is \\n\",l*b,\"square feet \\n\",round((l*b)* 0.09290304,3),\"square meters\")"
   ]
  },
  {
   "cell_type": "code",
   "execution_count": 2,
   "id": "23cae85d",
   "metadata": {},
   "outputs": [
    {
     "name": "stdout",
     "output_type": "stream",
     "text": [
      "What is the length of the room in feet? 27\n",
      "What is the width of the room in feet? 35\n",
      "You entered dimensions of  27 feet by 35 feet.\n",
      "The area is \n",
      " 945 square feet \n",
      " 87.793 square meters\n"
     ]
    }
   ],
   "source": [
    "l = int(input(\"What is the length of the room in feet? \"))\n",
    "b = int(input(\"What is the width of the room in feet? \"))\n",
    "print(\"You entered dimensions of \",l,\"feet by\",b,\"feet.\")\n",
    "print(\"The area is \\n\",l*b,\"square feet \\n\",round((l*b)* 0.09290304,3),\"square meters\")"
   ]
  },
  {
   "cell_type": "code",
   "execution_count": null,
   "id": "1c9de6b5",
   "metadata": {},
   "outputs": [],
   "source": []
  }
 ],
 "metadata": {
  "kernelspec": {
   "display_name": "Python 3",
   "language": "python",
   "name": "python3"
  },
  "language_info": {
   "codemirror_mode": {
    "name": "ipython",
    "version": 3
   },
   "file_extension": ".py",
   "mimetype": "text/x-python",
   "name": "python",
   "nbconvert_exporter": "python",
   "pygments_lexer": "ipython3",
   "version": "3.8.8"
  }
 },
 "nbformat": 4,
 "nbformat_minor": 5
}
