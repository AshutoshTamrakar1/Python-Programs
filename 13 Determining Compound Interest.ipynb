{
 "cells": [
  {
   "cell_type": "markdown",
   "id": "d6d44573",
   "metadata": {},
   "source": [
    "Simple interest is something you use only when making a quick guess. Most investments use a compound interest formula, which will be much more accurate. And this formula requires you to incorporate exponents into your programs."
   ]
  },
  {
   "cell_type": "markdown",
   "id": "e5ae5340",
   "metadata": {},
   "source": [
    "### Write a program to compute the value of an investment compounded over time. The program should ask for the starting amount, the number of years to invest, the interest rate, and the number of periods per year to compound."
   ]
  },
  {
   "cell_type": "markdown",
   "id": "2f971296",
   "metadata": {},
   "source": [
    "The formula you’ll use for this is\n",
    "\n",
    "__A = P(1 + r/n )^nt__\n",
    "\n",
    "where\n",
    "\n",
    "• P is the principal amount.\n",
    "\n",
    "• r is the annual rate of interest.\n",
    "\n",
    "• t is the number of years the amount is invested.\n",
    "\n",
    "• n is the number of times the interest is compounded per year.\n",
    "\n",
    "• A is the amount at the end of the investment."
   ]
  },
  {
   "cell_type": "markdown",
   "id": "548a393c",
   "metadata": {},
   "source": [
    "__Example Output__\n",
    "\n",
    "What is the principal amount? 1500\n",
    "\n",
    "What is the rate? 4.3\n",
    "\n",
    "What is the number of years? 6\n",
    "\n",
    "What is the number of times the interest is compounded per year? 4\n",
    "\n",
    "1500 USD invested at 4.3 Percent for 6 years compounded 4 times\n",
    "per year is $1938.84.\n",
    "\n",
    "\n",
    "__Constraints__\n",
    "\n",
    "• Prompt for the rate as a percentage (like 15, not .15). Divide the input by 100 in your program.\n",
    "\n",
    "• Ensure that fractions of a cent are rounded up to the next penny.\n",
    "\n",
    "• Ensure that the output is formatted as money."
   ]
  },
  {
   "cell_type": "code",
   "execution_count": 1,
   "id": "f9677cba",
   "metadata": {},
   "outputs": [
    {
     "name": "stdout",
     "output_type": "stream",
     "text": [
      "What is the principal amount?1500\n",
      "What is the rate?4.3\n",
      "What is the number of years? 6\n",
      "What is the number of times the interest is compounded per year? 4\n",
      "$ 1500 invested at 4.3 % for 6 years compounded 4 times per year is $ 1938.84\n"
     ]
    }
   ],
   "source": [
    "p=int(input('What is the principal amount?'))\n",
    "r=float(input('What is the rate?'))\n",
    "t=int(input('What is the number of years? '))\n",
    "n=int(input('What is the number of times the interest is compounded per year? '))\n",
    "\n",
    "A = p*(1+(r/100)/n)**(n*t)\n",
    "\n",
    "print('$',p,'invested at',r,'% for',t,'years compounded',n,'times per year is $',round(A,2))"
   ]
  },
  {
   "cell_type": "markdown",
   "id": "17d914d3",
   "metadata": {},
   "source": [
    "__Challenges__\n",
    "\n",
    "• Ensure that all of the inputs are numeric and that the program will not let the user proceed without valid inputs.\n",
    "\n",
    "• Create a version of the program that works in reverse, so you can determine the initial amount you’d need to invest to reach a specific goal.\n",
    "\n",
    "• Implement this program as a GUI app that automatically updates the values when any value changes."
   ]
  },
  {
   "cell_type": "code",
   "execution_count": 2,
   "id": "daa0cff5",
   "metadata": {},
   "outputs": [
    {
     "name": "stdout",
     "output_type": "stream",
     "text": [
      "What is the Total amount?1939\n",
      "What is the rate?4.3\n",
      "What is the number of years? 6\n",
      "What is the number of times the interest is compounded per year? 4\n",
      "You will need to Invest $ 1500 \n",
      "at 4.3 % annual rate of interest for 6 years compounded 4 times per year to reach the goal of $ 1939\n"
     ]
    }
   ],
   "source": [
    "A = int(input('What is the Total amount?'))\n",
    "r=float(input('What is the rate?'))\n",
    "t=int(input('What is the number of years? '))\n",
    "n=int(input('What is the number of times the interest is compounded per year? '))\n",
    "\n",
    "p = A/((1+(r/100)/n)**(n*t))\n",
    "\n",
    "print('You will need to Invest $',round(p),'\\nat',r,'% annual rate of interest for',t,'years compounded',n,'times per year to reach the goal of $',A)"
   ]
  },
  {
   "cell_type": "code",
   "execution_count": null,
   "id": "86bf0cc2",
   "metadata": {},
   "outputs": [],
   "source": []
  }
 ],
 "metadata": {
  "kernelspec": {
   "display_name": "Python 3",
   "language": "python",
   "name": "python3"
  },
  "language_info": {
   "codemirror_mode": {
    "name": "ipython",
    "version": 3
   },
   "file_extension": ".py",
   "mimetype": "text/x-python",
   "name": "python",
   "nbconvert_exporter": "python",
   "pygments_lexer": "ipython3",
   "version": "3.8.8"
  }
 },
 "nbformat": 4,
 "nbformat_minor": 5
}
