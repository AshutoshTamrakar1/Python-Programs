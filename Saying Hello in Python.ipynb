{
 "cells": [
  {
   "cell_type": "markdown",
   "id": "1aa36b71",
   "metadata": {},
   "source": [
    "### Create a program that prompts for your name and prints a greeting using your name."
   ]
  },
  {
   "cell_type": "markdown",
   "id": "52be6253",
   "metadata": {},
   "source": [
    "__Example Output__\n",
    "\n",
    "What is your name? Brian\n",
    "\n",
    "Hello, Brian, nice to meet you!\n",
    "\n",
    "__Constraint__\n",
    "\n",
    "• Keep the input, string concatenation, and output separate."
   ]
  },
  {
   "cell_type": "code",
   "execution_count": 1,
   "id": "8280f161",
   "metadata": {},
   "outputs": [
    {
     "name": "stdout",
     "output_type": "stream",
     "text": [
      "Hello! Ashutosh\n"
     ]
    }
   ],
   "source": [
    "my_name = \"Ashutosh\"\n",
    "\n",
    "print(\"Hello! \" + my_name)"
   ]
  },
  {
   "cell_type": "code",
   "execution_count": 2,
   "id": "109c6d58",
   "metadata": {},
   "outputs": [
    {
     "name": "stdout",
     "output_type": "stream",
     "text": [
      "Hello, Ashutosh, nice to meet you!\n"
     ]
    }
   ],
   "source": [
    "print(\"Hello, \"+ my_name + \", nice to meet you!\")"
   ]
  },
  {
   "cell_type": "code",
   "execution_count": 3,
   "id": "d3699175",
   "metadata": {},
   "outputs": [
    {
     "name": "stdout",
     "output_type": "stream",
     "text": [
      "what is your name? Ashu\n",
      "Hii,Ashu\n"
     ]
    }
   ],
   "source": [
    "A= input(\"what is your name? \")\n",
    "print(\"Hii,\" + A)"
   ]
  },
  {
   "cell_type": "markdown",
   "id": "df8a5936",
   "metadata": {},
   "source": [
    "__Challenges__\n",
    "\n",
    "• Write a new version of the program without using any variables."
   ]
  },
  {
   "cell_type": "code",
   "execution_count": 4,
   "id": "4bac9ec5",
   "metadata": {
    "scrolled": true
   },
   "outputs": [
    {
     "name": "stdout",
     "output_type": "stream",
     "text": [
      "Hello, Ashutosh\n"
     ]
    }
   ],
   "source": [
    "print(\"Hello, Ashutosh\")"
   ]
  },
  {
   "cell_type": "code",
   "execution_count": 5,
   "id": "c500a42d",
   "metadata": {},
   "outputs": [
    {
     "name": "stdout",
     "output_type": "stream",
     "text": [
      "Hello, Ashutosh, How are you today?\n"
     ]
    }
   ],
   "source": [
    "print(\"Hello, Ashutosh, How are you today?\")"
   ]
  },
  {
   "cell_type": "markdown",
   "id": "1fe90a56",
   "metadata": {},
   "source": [
    "• Write a version of the program that displays different greetings for different people."
   ]
  },
  {
   "cell_type": "code",
   "execution_count": 6,
   "id": "26822e2d",
   "metadata": {},
   "outputs": [
    {
     "name": "stdout",
     "output_type": "stream",
     "text": [
      "Hola John, Como estas?\n",
      "Hello, Mac, nice to meet you!\n",
      "Hey Jack, looking good!\n",
      "Hi Sonu, Welcome back to work!\n",
      "Hello, Karen, nice to meet you!\n"
     ]
    }
   ],
   "source": [
    "l = ['John','Mac','Jack','Sonu','Karen']\n",
    "\n",
    "for name in l:\n",
    "    if name == 'John':\n",
    "        print(\"Hola \" + name + ', Como estas?')\n",
    "    elif name == 'Jack':\n",
    "        print(\"Hey \" + name + ', looking good!')\n",
    "    elif name == 'Sonu':\n",
    "        print(\"Hi \" + name + ', Welcome back to work!')\n",
    "    else:\n",
    "        print(\"Hello, \" + name + ', nice to meet you!')"
   ]
  },
  {
   "cell_type": "code",
   "execution_count": null,
   "id": "fbc75b29",
   "metadata": {},
   "outputs": [],
   "source": []
  }
 ],
 "metadata": {
  "kernelspec": {
   "display_name": "Python 3",
   "language": "python",
   "name": "python3"
  },
  "language_info": {
   "codemirror_mode": {
    "name": "ipython",
    "version": 3
   },
   "file_extension": ".py",
   "mimetype": "text/x-python",
   "name": "python",
   "nbconvert_exporter": "python",
   "pygments_lexer": "ipython3",
   "version": "3.8.8"
  }
 },
 "nbformat": 4,
 "nbformat_minor": 5
}
