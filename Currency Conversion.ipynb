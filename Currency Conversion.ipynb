{
 "cells": [
  {
   "cell_type": "markdown",
   "id": "55830ae7",
   "metadata": {},
   "source": [
    "At some point, you might have to deal with currency exchange rates, and you’ll need to ensure your calculations are as precise as possible."
   ]
  },
  {
   "cell_type": "markdown",
   "id": "2636fb1b",
   "metadata": {},
   "source": [
    "### Write a program that converts currency. Specifically, convert euros to U.S. dollars. Prompt for the amount of money in euros you have, and prompt for the current exchange rate of the euro. Print out the new amount in U.S. dollars."
   ]
  },
  {
   "cell_type": "markdown",
   "id": "574a4dbd",
   "metadata": {},
   "source": [
    "The formula for currency conversion is:\n",
    "\n",
    "__amount to = amount from × rate from / rate to__\n",
    "\n",
    "where\n",
    "\n",
    "• Amount to is the amount in U.S. dollars.\n",
    "\n",
    "• Amount from is the amount in euros.\n",
    "\n",
    "• rate from is the current exchange rate in euros.\n",
    "\n",
    "• rate to is the current exchange rate of the U.S. dollar."
   ]
  },
  {
   "cell_type": "markdown",
   "id": "5e7e627a",
   "metadata": {},
   "source": [
    "__Example Output__\n",
    "\n",
    "How many euros are you exchanging? 81\n",
    "\n",
    "What is the exchange rate? 137.51\n",
    "\n",
    "81 euros at an exchange rate of 137.51 is 111.38 U.S. dollars.\n",
    "\n",
    "__Constraints__\n",
    "\n",
    "• Ensure that fractions of a cent are rounded up to the next penny.\n",
    "\n",
    "• Use a single output statement."
   ]
  },
  {
   "cell_type": "code",
   "execution_count": 6,
   "id": "ed44769d",
   "metadata": {},
   "outputs": [
    {
     "name": "stdout",
     "output_type": "stream",
     "text": [
      "How many euros are you exchanging?81\n",
      "What is the exchange rate?137.51\n",
      "81.0 euros at an exchange rate of 137.51 is 111.38 U.S. dollars.\n"
     ]
    }
   ],
   "source": [
    "Amount_from = float(input('How many euros are you exchanging?'))\n",
    "rate_from = float(input('What is the exchange rate?'))\n",
    "rate_to = 100\n",
    "\n",
    "amount_to = round(Amount_from * rate_from / rate_to,2)\n",
    "\n",
    "print(Amount_from,'euros at an exchange rate of', rate_from, 'is', amount_to, 'U.S. dollars.')"
   ]
  },
  {
   "cell_type": "code",
   "execution_count": 7,
   "id": "e1d22d55",
   "metadata": {},
   "outputs": [
    {
     "name": "stdout",
     "output_type": "stream",
     "text": [
      "How many euros are you exchanging?100\n",
      "What is the exchange rate?118\n",
      "What is the current exchange rate of the U.S. dollar?85\n",
      "100.0 euros at an exchange rate of 118.0 is 138.82 U.S. dollars.\n"
     ]
    }
   ],
   "source": [
    "Amount_from = float(input('How many euros are you exchanging?'))\n",
    "rate_from = float(input('What is the exchange rate in euros?'))\n",
    "rate_to = float(input('What is the current exchange rate of the U.S. dollar?'))\n",
    "\n",
    "amount_to = round(Amount_from * rate_from / rate_to,2)\n",
    "\n",
    "print(Amount_from,'euros at an exchange rate of', rate_from, 'is', amount_to, 'U.S. dollars.')"
   ]
  },
  {
   "cell_type": "code",
   "execution_count": null,
   "id": "0fe798ff",
   "metadata": {},
   "outputs": [],
   "source": []
  }
 ],
 "metadata": {
  "kernelspec": {
   "display_name": "Python 3",
   "language": "python",
   "name": "python3"
  },
  "language_info": {
   "codemirror_mode": {
    "name": "ipython",
    "version": 3
   },
   "file_extension": ".py",
   "mimetype": "text/x-python",
   "name": "python",
   "nbconvert_exporter": "python",
   "pygments_lexer": "ipython3",
   "version": "3.8.8"
  }
 },
 "nbformat": 4,
 "nbformat_minor": 5
}
