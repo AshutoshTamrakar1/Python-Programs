{
 "cells": [
  {
   "cell_type": "markdown",
   "id": "19bbcd16",
   "metadata": {},
   "source": [
    "Working with multiple inputs and currency can introduce some tricky precision issues."
   ]
  },
  {
   "cell_type": "markdown",
   "id": "be0e1964",
   "metadata": {},
   "source": [
    "### Create a simple self-checkout system. Prompt for the prices and quantities of three items. Calculate the subtotal of the items. Then calculate the tax using a tax rate of 5.5%. Print out the line items with the quantity and total, and then print out the subtotal, tax amount, and total."
   ]
  },
  {
   "cell_type": "markdown",
   "id": "4af57608",
   "metadata": {},
   "source": [
    "__Example Output__\n",
    "\n",
    "Enter the price of item 1: 25\n",
    "\n",
    "Enter the quantity of item 1: 2\n",
    "\n",
    "Enter the price of item 2: 10\n",
    "\n",
    "Enter the quantity of item 2: 1\n",
    "\n",
    "Enter the price of item 3: 4\n",
    "\n",
    "Enter the quantity of item 3: 1\n",
    "\n",
    "Subtotal: $64.00\n",
    "\n",
    "Tax: $3.52\n",
    "\n",
    "Total: $67.52"
   ]
  },
  {
   "cell_type": "markdown",
   "id": "bc64b87f",
   "metadata": {},
   "source": [
    "__Constraints__\n",
    "\n",
    "• Keep the input, processing, and output parts of your program separate. Collect the input, then do the math operations and string building, and then print out the output.\n",
    "\n",
    "• Be sure you explicitly convert input to numerical data before doing any calculations."
   ]
  },
  {
   "cell_type": "code",
   "execution_count": 3,
   "id": "2d9b9b4b",
   "metadata": {},
   "outputs": [
    {
     "name": "stdout",
     "output_type": "stream",
     "text": [
      "Enter the price of item 1:25\n",
      "Enter the quantity of item 1:2\n",
      "Enter the price of item 2:10\n",
      "Enter the quantity of item 2:1\n",
      "Enter the price of item 3:4\n",
      "Enter the quantity of item 3:1\n",
      "Subtotal: $ 64\n",
      "Tax: $ 3.52\n",
      "Total: $ 67.52\n"
     ]
    }
   ],
   "source": [
    "p1 = int(input('Enter the price of item 1:'))\n",
    "q1 = int(input('Enter the quantity of item 1:'))\n",
    "p2 = int(input('Enter the price of item 2:'))\n",
    "q2 = int(input('Enter the quantity of item 2:'))\n",
    "p3 = int(input('Enter the price of item 3:'))\n",
    "q3 = int(input('Enter the quantity of item 3:'))\n",
    "\n",
    "Subtotal = p1*q1+p2*q2+p3*q3\n",
    "Tax = Subtotal*(5.5/100)\n",
    "Total = Subtotal+Tax\n",
    "\n",
    "print('Subtotal: $',Subtotal)\n",
    "print('Tax: $',Tax)\n",
    "print('Total: $',Total)"
   ]
  }
 ],
 "metadata": {
  "kernelspec": {
   "display_name": "Python 3",
   "language": "python",
   "name": "python3"
  },
  "language_info": {
   "codemirror_mode": {
    "name": "ipython",
    "version": 3
   },
   "file_extension": ".py",
   "mimetype": "text/x-python",
   "name": "python",
   "nbconvert_exporter": "python",
   "pygments_lexer": "ipython3",
   "version": "3.8.8"
  }
 },
 "nbformat": 4,
 "nbformat_minor": 5
}
