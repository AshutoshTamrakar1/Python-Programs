{
 "cells": [
  {
   "cell_type": "markdown",
   "id": "4dad655c",
   "metadata": {},
   "source": [
    "### Calculate gallons of paint needed to paint the ceiling of a room. Prompt for the length and width, and assume one gallon covers 350 square feet. Display the number of gallons needed to paint the ceiling as a whole number."
   ]
  },
  {
   "cell_type": "markdown",
   "id": "9fb2494e",
   "metadata": {},
   "source": [
    "__Example Output__\n",
    "\n",
    "You will need to purchase 2 gallons of\n",
    "\n",
    "paint to cover 360 square feet.\n",
    "\n",
    "\n",
    "Remember, you can’t buy a partial gallon of paint. You must\n",
    "round up to the next whole gallon.\n",
    "\n",
    "__Constraints__\n",
    "\n",
    "• Use a constant to hold the conversion rate.\n",
    "\n",
    "• Ensure that you round up to the next whole number."
   ]
  },
  {
   "cell_type": "code",
   "execution_count": 1,
   "id": "47196a5e",
   "metadata": {},
   "outputs": [
    {
     "name": "stdout",
     "output_type": "stream",
     "text": [
      "What is the length of the room in feet? 40\n",
      "What is the width of the room in feet? 25\n",
      "\n",
      "You will need to purchase 3 gallons of \n",
      "paint to cover 1000 square feet.\n"
     ]
    }
   ],
   "source": [
    "import math\n",
    "\n",
    "l = int(input(\"What is the length of the room in feet? \"))\n",
    "b = int(input(\"What is the width of the room in feet? \"))\n",
    "area_of_ceiling = l*b\n",
    "\n",
    "print('\\nYou will need to purchase', math.ceil(area_of_ceiling/350) ,'gallons of \\npaint to cover' ,area_of_ceiling, 'square feet.')"
   ]
  },
  {
   "cell_type": "raw",
   "id": "b5144239",
   "metadata": {},
   "source": []
  },
  {
   "cell_type": "markdown",
   "id": "7a4966dc",
   "metadata": {},
   "source": [
    "__Challenges__\n",
    "\n",
    "• Implement support for a round room.\n",
    "\n",
    "• Implement support for an L-shaped room."
   ]
  },
  {
   "cell_type": "code",
   "execution_count": 2,
   "id": "4508d9fa",
   "metadata": {},
   "outputs": [
    {
     "name": "stdout",
     "output_type": "stream",
     "text": [
      "Enter the Diameter of room :60\n",
      "\n",
      "You will need to purchase 9 gallons of \n",
      "paint to cover 2827.433 square feet.\n"
     ]
    }
   ],
   "source": [
    "#for round room\n",
    "\n",
    "d = int(input('Enter the Diameter of room :'))\n",
    "area_of_ceiling = round(math.pi * ((d/2)**2),3)\n",
    "print('\\nYou will need to purchase', math.ceil(area_of_ceiling/350) ,'gallons of \\npaint to cover' ,area_of_ceiling, 'square feet.')"
   ]
  },
  {
   "cell_type": "code",
   "execution_count": 3,
   "id": "b309a444",
   "metadata": {},
   "outputs": [
    {
     "name": "stdout",
     "output_type": "stream",
     "text": [
      "What is the length of outer part of room in feet? 50\n",
      "What is the width of outer part of room in feet? 40\n",
      "What is the length of inner part of room in feet? 22\n",
      "What is the width of inner part of room in feet? 20\n",
      "\n",
      "You will need to purchase 5 gallons of \n",
      "paint to cover 1560 square feet.\n"
     ]
    }
   ],
   "source": [
    "#for L-shaped room\n",
    "\n",
    "l1 = int(input(\"What is the length of outer part of room in feet? \"))\n",
    "b1 = int(input(\"What is the width of outer part of room in feet? \"))\n",
    "l2 = int(input(\"What is the length of inner part of room in feet? \"))\n",
    "b2 = int(input(\"What is the width of inner part of room in feet? \"))\n",
    "\n",
    "area_of_ceiling = l1*b1 - l2*b2\n",
    "\n",
    "print('\\nYou will need to purchase', math.ceil(area_of_ceiling/350) ,'gallons of \\npaint to cover' ,area_of_ceiling, 'square feet.')"
   ]
  },
  {
   "cell_type": "code",
   "execution_count": null,
   "id": "64fa0570",
   "metadata": {},
   "outputs": [],
   "source": []
  }
 ],
 "metadata": {
  "kernelspec": {
   "display_name": "Python 3",
   "language": "python",
   "name": "python3"
  },
  "language_info": {
   "codemirror_mode": {
    "name": "ipython",
    "version": 3
   },
   "file_extension": ".py",
   "mimetype": "text/x-python",
   "name": "python",
   "nbconvert_exporter": "python",
   "pygments_lexer": "ipython3",
   "version": "3.8.8"
  }
 },
 "nbformat": 4,
 "nbformat_minor": 5
}
