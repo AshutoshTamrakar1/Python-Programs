{
 "cells": [
  {
   "cell_type": "markdown",
   "id": "425a36d1",
   "metadata": {},
   "source": [
    "Passwords are validated by comparing a user-provided value with a known value that’s stored. Either it’s correct or it’s not."
   ]
  },
  {
   "cell_type": "markdown",
   "id": "7198b456",
   "metadata": {},
   "source": [
    "### Create a simple program that validates user login credentials. The program must prompt the user for a username and password. The program should compare the password given by the user to a known password. If the password matches, the program should display “Welcome!” If it doesn’t match, the program should display “I don’t know you.”"
   ]
  },
  {
   "cell_type": "markdown",
   "id": "59a3ca8f",
   "metadata": {},
   "source": [
    "__Example Output__\n",
    "\n",
    "What is the password? 12345\n",
    "\n",
    "I don't know you.\n",
    "\n",
    "Or\n",
    "\n",
    "What is the password? abc$123\n",
    "\n",
    "Welcome!\n",
    "\n",
    "__Constraints__\n",
    "\n",
    "• Use an if/else statement for this problem.\n",
    "\n",
    "• Make sure the program is case sensitive."
   ]
  },
  {
   "cell_type": "code",
   "execution_count": 1,
   "id": "a7c67ec5",
   "metadata": {},
   "outputs": [],
   "source": [
    "D= {'AMAN':'123@ABC','SUNIL':'25823&0','KAREN':'2589#12','LOK':'1258963','COL':'abc$256'}"
   ]
  },
  {
   "cell_type": "code",
   "execution_count": 14,
   "id": "9811321f",
   "metadata": {},
   "outputs": [
    {
     "name": "stdout",
     "output_type": "stream",
     "text": [
      "What is the Username?AMAN\n",
      "What is the password?123@ABC\n",
      "Welcome!\n"
     ]
    }
   ],
   "source": [
    "N = input('What is the Username?')\n",
    "P = input('What is the password?')\n",
    "if D[N] == P:\n",
    "    print('Welcome!')\n",
    "else:\n",
    "    print(\"I don't know you.\")"
   ]
  },
  {
   "cell_type": "code",
   "execution_count": 15,
   "id": "fa58ff65",
   "metadata": {},
   "outputs": [
    {
     "name": "stdout",
     "output_type": "stream",
     "text": [
      "What is the Username?COL\n",
      "What is the password?12365$gg\n",
      "I don't know you.\n"
     ]
    }
   ],
   "source": [
    "N = input('What is the Username?')\n",
    "P = input('What is the password?')\n",
    "if D[N] == P:\n",
    "    print('Welcome!')\n",
    "else:\n",
    "    print(\"I don't know you.\")"
   ]
  },
  {
   "cell_type": "code",
   "execution_count": null,
   "id": "5874c102",
   "metadata": {},
   "outputs": [],
   "source": []
  }
 ],
 "metadata": {
  "kernelspec": {
   "display_name": "Python 3",
   "language": "python",
   "name": "python3"
  },
  "language_info": {
   "codemirror_mode": {
    "name": "ipython",
    "version": 3
   },
   "file_extension": ".py",
   "mimetype": "text/x-python",
   "name": "python",
   "nbconvert_exporter": "python",
   "pygments_lexer": "ipython3",
   "version": "3.8.8"
  }
 },
 "nbformat": 4,
 "nbformat_minor": 5
}
