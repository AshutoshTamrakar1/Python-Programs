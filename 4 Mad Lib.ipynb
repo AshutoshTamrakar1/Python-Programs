{
 "cells": [
  {
   "cell_type": "markdown",
   "id": "fc9f1a23",
   "metadata": {},
   "source": [
    "Mad libs are a simple game where you create a story template with blanks for words. You, or another player, then construct a list of words and place them into the story, creating an often silly or funny story as a result."
   ]
  },
  {
   "cell_type": "markdown",
   "id": "65e2eac7",
   "metadata": {},
   "source": [
    "### Create a simple mad-lib program that prompts for a noun, a verb, an adverb, and an adjective and injects those into a story that you create."
   ]
  },
  {
   "cell_type": "markdown",
   "id": "18ea498b",
   "metadata": {},
   "source": [
    "__Example Output__\n",
    "\n",
    "Enter a noun: dog\n",
    "\n",
    "Enter a verb: walk\n",
    "\n",
    "Enter an adjective: blue\n",
    "\n",
    "Enter an adverb: quickly\n",
    "\n",
    "Do you walk your blue dog quickly? That's hilarious!\n",
    "\n",
    "__Constraints__\n",
    "\n",
    "• Use a single output statement for this program.\n",
    "\n",
    "• If your language supports string interpolation or string substitution, use it to build up the output."
   ]
  },
  {
   "cell_type": "code",
   "execution_count": 2,
   "id": "08ab3374",
   "metadata": {},
   "outputs": [
    {
     "name": "stdout",
     "output_type": "stream",
     "text": [
      "Enter a noun :dog\n",
      "Enter a verb :walk\n",
      "Enter an adjective :blue\n",
      "Enter an adverb :quickly\n",
      "Do you walk your blue dog quickly ? That's hilarious!\n"
     ]
    }
   ],
   "source": [
    "noun = input('Enter a noun :')\n",
    "verb = input('Enter a verb :')\n",
    "adj = input('Enter an adjective :')\n",
    "adv = input('Enter an adverb :')\n",
    "print('Do you', verb, 'your', adj, noun, adv,\"? That's hilarious!\")"
   ]
  },
  {
   "cell_type": "code",
   "execution_count": 3,
   "id": "cf996b89",
   "metadata": {},
   "outputs": [
    {
     "name": "stdout",
     "output_type": "stream",
     "text": [
      "Enter a noun :programmer\n",
      "Enter a verb :solved\n",
      "Enter an adjective :brilliant\n",
      "Enter an adverb :rapidly\n",
      "A brilliant programmer rapidly solved the problem.\n"
     ]
    }
   ],
   "source": [
    "noun = input('Enter a noun :')\n",
    "verb = input('Enter a verb :')\n",
    "adj = input('Enter an adjective :')\n",
    "adv = input('Enter an adverb :')\n",
    "print(\"A\",adj,noun,adv,verb,\"the problem.\")"
   ]
  }
 ],
 "metadata": {
  "kernelspec": {
   "display_name": "Python 3",
   "language": "python",
   "name": "python3"
  },
  "language_info": {
   "codemirror_mode": {
    "name": "ipython",
    "version": 3
   },
   "file_extension": ".py",
   "mimetype": "text/x-python",
   "name": "python",
   "nbconvert_exporter": "python",
   "pygments_lexer": "ipython3",
   "version": "3.8.8"
  }
 },
 "nbformat": 4,
 "nbformat_minor": 5
}
