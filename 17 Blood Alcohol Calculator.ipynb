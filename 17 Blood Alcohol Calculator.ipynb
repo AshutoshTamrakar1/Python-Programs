{
 "cells": [
  {
   "cell_type": "markdown",
   "id": "8b557134",
   "metadata": {},
   "source": [
    "Sometimes you have to perform a more complex calculation based on some provided inputs and then use that result to make a determination."
   ]
  },
  {
   "cell_type": "markdown",
   "id": "aceac166",
   "metadata": {},
   "source": [
    "### Create a program that prompts for your weight, gender, number of drinks, the amount of alcohol by volume of the drinks consumed, and the amount of time since your last drink."
   ]
  },
  {
   "cell_type": "markdown",
   "id": "4c6483ba",
   "metadata": {},
   "source": [
    "Calculate your blood alcohol content (BAC) using this formula :\n",
    "\n",
    "__BAC = (A × 5.14 /W × r) − .015 × H__\n",
    "\n",
    "where\n",
    "\n",
    "• A is total alcohol consumed, in ounces (oz).\n",
    "\n",
    "• W is body weight in pounds.\n",
    "\n",
    "• r is the alcohol distribution ratio:\n",
    "\n",
    "– 0.73 for men\n",
    "\n",
    "– 0.66 for women\n",
    "\n",
    "• H is number of hours since the last drink.\n",
    "\n",
    "Display whether or not it’s legal to drive by comparing the blood alcohol content to 0.08."
   ]
  },
  {
   "cell_type": "markdown",
   "id": "93be49fe",
   "metadata": {},
   "source": [
    "__Example Output__\n",
    "\n",
    "Your BAC is 0.08\n",
    "\n",
    "It is not legal for you to drive.\n",
    "\n",
    "__Constraint__\n",
    "\n",
    "• Prevent the user from entering non-numeric values."
   ]
  },
  {
   "cell_type": "code",
   "execution_count": 1,
   "id": "4bb38cc9",
   "metadata": {},
   "outputs": [
    {
     "name": "stdout",
     "output_type": "stream",
     "text": [
      "What is your weight (in Kg)?45\n",
      "What is your Gender (male/ female)?female\n",
      "How many Drinks you took?2\n",
      "Total alcohol consumed is 20 Ounces(oz).\n",
      "How many hours passed since your last drink?8\n",
      "Your BAC is 3.341279461279461\n",
      "It is not legal for you to drive.\n"
     ]
    }
   ],
   "source": [
    "W = int(input(\"What is your weight (in Kg)?\"))\n",
    "G = input(\"What is your Gender (male/ female)?\")\n",
    "n = int(input(\"How many Drinks you took?\"))\n",
    "A = n*10                                               #Assuming each drink contains 10 ounces of alcohol.\n",
    "print('Total alcohol consumed is',A,'Ounces(oz).')\n",
    "H = int(input(\"How many hours passed since your last drink?\"))\n",
    "\n",
    "if G == 'male':\n",
    "    r = 0.73\n",
    "else:\n",
    "    r = 0.66\n",
    "    \n",
    "BAC = ((A * 5.14) / (W * r)) - (0.015 * H)\n",
    "\n",
    "print('Your BAC is',BAC)\n",
    "\n",
    "if BAC >= 0.08:\n",
    "    print('It is not legal for you to drive.')\n",
    "else:\n",
    "    print('It is legal for you to drive.')"
   ]
  }
 ],
 "metadata": {
  "kernelspec": {
   "display_name": "Python 3",
   "language": "python",
   "name": "python3"
  },
  "language_info": {
   "codemirror_mode": {
    "name": "ipython",
    "version": 3
   },
   "file_extension": ".py",
   "mimetype": "text/x-python",
   "name": "python",
   "nbconvert_exporter": "python",
   "pygments_lexer": "ipython3",
   "version": "3.8.8"
  }
 },
 "nbformat": 4,
 "nbformat_minor": 5
}
