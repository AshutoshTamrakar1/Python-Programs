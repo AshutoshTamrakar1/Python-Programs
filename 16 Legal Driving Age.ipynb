{
 "cells": [
  {
   "cell_type": "markdown",
   "id": "d09df8e4",
   "metadata": {},
   "source": [
    "You can test for equality, but you may need to test to see how a number compares to a known value and display a message if the number is too low or too high."
   ]
  },
  {
   "cell_type": "markdown",
   "id": "f74b2c7e",
   "metadata": {},
   "source": [
    "### Write a program that asks the user for their age and compare it to the legal driving age of sixteen. If the user is sixteen or older, then the program should display “You are old enough to legally drive.” If the user is under sixteen, the program should display “You are not old enough to legally drive.”"
   ]
  },
  {
   "cell_type": "markdown",
   "id": "7b0069f6",
   "metadata": {},
   "source": [
    "__Example Output__\n",
    "\n",
    "What is your age? 15\n",
    "\n",
    "You are not old enough to legally drive.\n",
    "\n",
    "Or\n",
    "\n",
    "What is your age? 35\n",
    "\n",
    "You are old enough to legally drive.\n",
    "\n",
    "\n",
    "__Constraints__\n",
    "\n",
    "• Use a single output statement.\n",
    "\n",
    "• Use a ternary operator to write this program. If your language doesn’t support a ternary operator, use a regular if/else statement, and still use a single output statement to display the message."
   ]
  },
  {
   "cell_type": "code",
   "execution_count": 2,
   "id": "c1c32285",
   "metadata": {},
   "outputs": [
    {
     "name": "stdout",
     "output_type": "stream",
     "text": [
      "What is your age? 6\n",
      "You are not old enough to legally drive.\n"
     ]
    }
   ],
   "source": [
    "Legal_age = 16\n",
    "age = int(input('What is your age? '))\n",
    "\n",
    "if age < Legal_age:\n",
    "    print(\"You are not old enough to legally drive.\")\n",
    "else:\n",
    "    print(\"You are old enough to legally drive.\")"
   ]
  },
  {
   "cell_type": "code",
   "execution_count": 3,
   "id": "4c79a6fe",
   "metadata": {},
   "outputs": [
    {
     "name": "stdout",
     "output_type": "stream",
     "text": [
      "What is your age? 23\n",
      "You are old enough to legally drive.\n"
     ]
    }
   ],
   "source": [
    "Legal_age = 16\n",
    "age = int(input('What is your age? '))\n",
    "\n",
    "if age < Legal_age:\n",
    "    print(\"You are not old enough to legally drive.\")\n",
    "else:\n",
    "    print(\"You are old enough to legally drive.\")"
   ]
  },
  {
   "cell_type": "code",
   "execution_count": null,
   "id": "61c62003",
   "metadata": {},
   "outputs": [],
   "source": []
  }
 ],
 "metadata": {
  "kernelspec": {
   "display_name": "Python 3",
   "language": "python",
   "name": "python3"
  },
  "language_info": {
   "codemirror_mode": {
    "name": "ipython",
    "version": 3
   },
   "file_extension": ".py",
   "mimetype": "text/x-python",
   "name": "python",
   "nbconvert_exporter": "python",
   "pygments_lexer": "ipython3",
   "version": "3.8.8"
  }
 },
 "nbformat": 4,
 "nbformat_minor": 5
}
