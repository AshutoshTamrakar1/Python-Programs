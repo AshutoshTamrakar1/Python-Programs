{
 "cells": [
  {
   "cell_type": "markdown",
   "id": "0b8746c2",
   "metadata": {},
   "source": [
    "### Write a program to evenly divide pizzas. Prompt for the number of people, the number of pizzas, and the number of slices per pizza. Ensure that the number of pieces comes out even. Display the number of pieces of pizza each person should get. If there are leftovers, show the number of leftover pieces."
   ]
  },
  {
   "cell_type": "markdown",
   "id": "da561037",
   "metadata": {},
   "source": [
    "__Example Output__\n",
    "\n",
    "How many people? 8\n",
    "\n",
    "How many pizzas do you have? 2\n",
    "\n",
    "8 people with 2 pizzas\n",
    "\n",
    "Each person gets 2 pieces of pizza.\n",
    "\n",
    "There are 0 leftover pieces."
   ]
  },
  {
   "cell_type": "code",
   "execution_count": 1,
   "id": "80b518cd",
   "metadata": {},
   "outputs": [
    {
     "name": "stdout",
     "output_type": "stream",
     "text": [
      "How many people? 8\n",
      "How many pizzas do you have? 2\n",
      "8 people with 2 pizzas.\n",
      "Each person gets  2 pieces of pizza.\n",
      "There are 0 leftover pieces.\n"
     ]
    }
   ],
   "source": [
    "people = int(input('How many people? '))\n",
    "pizza = int(input('How many pizzas do you have? '))\n",
    "slices = 8*pizza\n",
    "print(people,'people with',pizza,'pizzas.')\n",
    "print(\"Each person gets \",round(slices/people),'pieces of pizza.')\n",
    "print('There are',slices%people,'leftover pieces.')"
   ]
  },
  {
   "cell_type": "raw",
   "id": "543e6fe4",
   "metadata": {},
   "source": []
  },
  {
   "cell_type": "markdown",
   "id": "08af7f8f",
   "metadata": {},
   "source": [
    "__Challenges__\n",
    "\n",
    "• Alter the output so it handles pluralization properly, for example: \n",
    "\n",
    "Each person gets 2 pieces of pizza.\n",
    "\n",
    "or\n",
    "\n",
    "Each person gets 1 piece of pizza.\n",
    "\n",
    "Handle the output for leftover pieces appropriately as well.\n"
   ]
  },
  {
   "cell_type": "code",
   "execution_count": 2,
   "id": "aa0b8f11",
   "metadata": {},
   "outputs": [
    {
     "name": "stdout",
     "output_type": "stream",
     "text": [
      "How many people? 10\n",
      "How many pizzas do you have? 2\n",
      "How many pieces each person should get? 1\n",
      "10 people with 2 pizzas, Where each person gets 1 pieces of pizza.\n",
      "Each person gets  1 pieces of pizza.\n",
      "There are 6 leftover pieces.\n"
     ]
    }
   ],
   "source": [
    "people = int(input('How many people? '))\n",
    "pizza = int(input('How many pizzas do you have? '))\n",
    "available_pieces = 8*pizza\n",
    "pieces =int(input(\"How many pieces each person should get? \"))\n",
    "required_pieces = people * pieces\n",
    "print(people,'people with',pizza,'pizzas, Where each person gets',pieces,'pieces of pizza.')\n",
    "print(\"Each person gets \",pieces,'pieces of pizza.')\n",
    "leftover = available_pieces - required_pieces\n",
    "if leftover < 0:\n",
    "    print('You will need to buy more pizzas...')\n",
    "else:\n",
    "    print('There are',leftover,'leftover pieces.')"
   ]
  },
  {
   "cell_type": "raw",
   "id": "3324ef1c",
   "metadata": {},
   "source": []
  },
  {
   "cell_type": "markdown",
   "id": "2ba81225",
   "metadata": {},
   "source": [
    "• Create a variant of the program that prompts for the number of people and the number of pieces each person wants, and calculate how many full pizzas you need to purchase."
   ]
  },
  {
   "cell_type": "code",
   "execution_count": 3,
   "id": "b7e79891",
   "metadata": {},
   "outputs": [
    {
     "name": "stdout",
     "output_type": "stream",
     "text": [
      "How many people? 12\n",
      "How many pieces each person wants? 3\n",
      "12 people with 3 pieces of pizza for each person.\n",
      "You will need to purchase 5 full pizzas.\n"
     ]
    }
   ],
   "source": [
    "import math\n",
    "\n",
    "people = int(input('How many people? '))\n",
    "pieces =int(input(\"How many pieces each person wants? \"))\n",
    "total_pieces = people * pieces\n",
    "print(people,'people with',pieces,'pieces of pizza for each person.')\n",
    "print('You will need to purchase',math.ceil(total_pieces/8),'full pizzas.')"
   ]
  },
  {
   "cell_type": "code",
   "execution_count": null,
   "id": "21fa6e3c",
   "metadata": {},
   "outputs": [],
   "source": []
  }
 ],
 "metadata": {
  "kernelspec": {
   "display_name": "Python 3",
   "language": "python",
   "name": "python3"
  },
  "language_info": {
   "codemirror_mode": {
    "name": "ipython",
    "version": 3
   },
   "file_extension": ".py",
   "mimetype": "text/x-python",
   "name": "python",
   "nbconvert_exporter": "python",
   "pygments_lexer": "ipython3",
   "version": "3.8.8"
  }
 },
 "nbformat": 4,
 "nbformat_minor": 5
}
