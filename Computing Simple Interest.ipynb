{
 "cells": [
  {
   "cell_type": "markdown",
   "id": "5b73da2e",
   "metadata": {},
   "source": [
    "Computing simple interest is a great way to quickly figure out whether an investment has value. It’s also a good way to get comfortable with explicitly coding the order of operations in your programs."
   ]
  },
  {
   "cell_type": "markdown",
   "id": "2ddba4ea",
   "metadata": {},
   "source": [
    "### Create a program that computes simple interest. Prompt for the principal amount, the rate as a percentage, and the time, and display the amount accrued (principal + interest)."
   ]
  },
  {
   "cell_type": "markdown",
   "id": "57f0318c",
   "metadata": {},
   "source": [
    "The formula for simple interest is __A = P(1 + rt)__, where P is the principal amount, r is the annual rate of interest, t is the number of years the amount is invested, and A is the amount at the end of the investment."
   ]
  },
  {
   "cell_type": "markdown",
   "id": "a9bbfb46",
   "metadata": {},
   "source": [
    "__Example Output__\n",
    "\n",
    "Enter the principal: 1500\n",
    "\n",
    "Enter the rate of interest: 4.3\n",
    "\n",
    "Enter the number of years: 4\n",
    "\n",
    "After 4 years at 4.3%, the investment will be worth $1758."
   ]
  },
  {
   "cell_type": "markdown",
   "id": "14dcf52a",
   "metadata": {},
   "source": [
    "__Constraints__\n",
    "\n",
    "• Prompt for the rate as a percentage (like 15, not .15). Divide the input by 100 in your program.\n",
    "\n",
    "• Ensure that fractions of a cent are rounded up to the next penny.\n",
    "\n",
    "• Ensure that the output is formatted as money."
   ]
  },
  {
   "cell_type": "code",
   "execution_count": 1,
   "id": "6ff68d36",
   "metadata": {},
   "outputs": [
    {
     "name": "stdout",
     "output_type": "stream",
     "text": [
      "Enter the principal:1500\n",
      "Enter the rate of interest:4.3\n",
      "Enter the number of years:4\n",
      "After 4 years at 4.3 %,the investmebt will be worth $ 1758.0\n"
     ]
    }
   ],
   "source": [
    "p = int(input('Enter the principal:'))\n",
    "r = float(input('Enter the rate of interest:'))\n",
    "t = int(input('Enter the number of years:'))\n",
    "\n",
    "A = p*(1 + r*t/100)\n",
    "\n",
    "print('After',t,'years at',r,'%,the investmebt will be worth $',A)"
   ]
  },
  {
   "cell_type": "markdown",
   "id": "e4e0e585",
   "metadata": {},
   "source": [
    "__Challenges__\n",
    "\n",
    "• Ensure that the values entered for principal, rate, and number of years are numeric and that the program will not let the user proceed without valid inputs.\n",
    "\n",
    "• Alter the program to use a function called calculateSimpleInterest that takes in the rate, principal, and number of years and returns the amount at the end of the investment.\n",
    "\n",
    "• In addition to printing out the final amount, print out the amount at the end of each year."
   ]
  },
  {
   "cell_type": "code",
   "execution_count": 2,
   "id": "a1199b62",
   "metadata": {},
   "outputs": [],
   "source": [
    "def calculateSimpleInterest(p,r,t):\n",
    "    for t in range(1,t+1):\n",
    "        A = p*(1 + r*t/100)\n",
    "        print('After',t,'years at',r,'%,the investmebt will be worth $',round(A))"
   ]
  },
  {
   "cell_type": "code",
   "execution_count": 3,
   "id": "210f8891",
   "metadata": {},
   "outputs": [
    {
     "name": "stdout",
     "output_type": "stream",
     "text": [
      "After 1 years at 4.3 %,the investmebt will be worth $ 1564\n",
      "After 2 years at 4.3 %,the investmebt will be worth $ 1629\n",
      "After 3 years at 4.3 %,the investmebt will be worth $ 1694\n",
      "After 4 years at 4.3 %,the investmebt will be worth $ 1758\n"
     ]
    }
   ],
   "source": [
    "calculateSimpleInterest(1500,4.3,4)"
   ]
  },
  {
   "cell_type": "code",
   "execution_count": null,
   "id": "27c497cc",
   "metadata": {},
   "outputs": [],
   "source": []
  }
 ],
 "metadata": {
  "kernelspec": {
   "display_name": "Python 3",
   "language": "python",
   "name": "python3"
  },
  "language_info": {
   "codemirror_mode": {
    "name": "ipython",
    "version": 3
   },
   "file_extension": ".py",
   "mimetype": "text/x-python",
   "name": "python",
   "nbconvert_exporter": "python",
   "pygments_lexer": "ipython3",
   "version": "3.8.8"
  }
 },
 "nbformat": 4,
 "nbformat_minor": 5
}
