{
 "cells": [
  {
   "cell_type": "markdown",
   "id": "58393ab0",
   "metadata": {},
   "source": [
    "Your computer knows what the current year is, which means you can incorporate that into your programs. You just have to figure out how your programming language can provide you with that information."
   ]
  },
  {
   "cell_type": "markdown",
   "id": "233652f3",
   "metadata": {},
   "source": [
    "### Create a program that determines how many years you have left until retirement and the year you can retire. It should prompt for your current age and the age you want to retire and display the output as shown in the example that follows."
   ]
  },
  {
   "cell_type": "markdown",
   "id": "00a185bb",
   "metadata": {},
   "source": [
    "__Example Output__\n",
    "\n",
    "What is your current age? 25\n",
    "\n",
    "At what age would you like to retire? 65\n",
    "\n",
    "You have 40 years left until you can retire.\n",
    "\n",
    "It's 2015, so you can retire in 2055.\n",
    "\n",
    "__Constraints__\n",
    "\n",
    "• Again, be sure to convert the input to numerical data before doing any math.\n",
    "\n",
    "• Don’t hard-code the current year into your program.Get it from the system time via your programming language."
   ]
  },
  {
   "cell_type": "code",
   "execution_count": 1,
   "id": "9c77279d",
   "metadata": {},
   "outputs": [
    {
     "name": "stdout",
     "output_type": "stream",
     "text": [
      "What is your current age? :25\n",
      "At what age would you like to retire? :65\n",
      "You have 40 years left until you can retire.\n",
      "Its 2021 , so you can retire in  2061\n"
     ]
    }
   ],
   "source": [
    "from datetime import date \n",
    "\n",
    "age = int(input('What is your current age? :'))\n",
    "ret_age = int(input('At what age would you like to retire? :'))\n",
    "curr_year = date.today().year\n",
    "\n",
    "print(\"You have\",ret_age-age,\"years left until you can retire.\")\n",
    "print(\"Its\",curr_year,\", so you can retire in \",curr_year + (ret_age - age))"
   ]
  },
  {
   "cell_type": "code",
   "execution_count": 2,
   "id": "c15516c1",
   "metadata": {},
   "outputs": [
    {
     "name": "stdout",
     "output_type": "stream",
     "text": [
      "What is your current age? :23\n",
      "At what age would you like to retire? :50\n",
      "You have 27 years left until you can retire.\n",
      "Its 2021 , so you can retire in  2048\n"
     ]
    }
   ],
   "source": [
    "age = int(input('What is your current age? :'))\n",
    "ret_age = int(input('At what age would you like to retire? :'))\n",
    "curr_year = date.today().year\n",
    "\n",
    "print(\"You have\",ret_age-age,\"years left until you can retire.\")\n",
    "print(\"Its\",curr_year,\", so you can retire in \",curr_year + (ret_age - age))"
   ]
  },
  {
   "cell_type": "code",
   "execution_count": 3,
   "id": "db90c44a",
   "metadata": {},
   "outputs": [
    {
     "name": "stdout",
     "output_type": "stream",
     "text": [
      "What is your current age? :63\n",
      "At what age would you like to retire? :60\n",
      "You have -3 years left until you can retire.\n",
      "Its 2021 , so you can retire in  2018\n"
     ]
    }
   ],
   "source": [
    "age = int(input('What is your current age? :'))\n",
    "ret_age = int(input('At what age would you like to retire? :'))\n",
    "curr_year = date.today().year\n",
    "\n",
    "print(\"You have\",ret_age-age,\"years left until you can retire.\")\n",
    "print(\"Its\",curr_year,\", so you can retire in \",curr_year + (ret_age - age))"
   ]
  },
  {
   "cell_type": "markdown",
   "id": "ceeb8c52",
   "metadata": {},
   "source": [
    "__Challenge__\n",
    "\n",
    "• Handle situations where the program returns a negative number by stating that the user can already retire."
   ]
  },
  {
   "cell_type": "code",
   "execution_count": 4,
   "id": "1c1cd716",
   "metadata": {},
   "outputs": [
    {
     "name": "stdout",
     "output_type": "stream",
     "text": [
      "What is your current age? :66\n",
      "At what age would you like to retire? :65\n",
      "You can already retire\n"
     ]
    }
   ],
   "source": [
    "age = int(input('What is your current age? :'))\n",
    "ret_age = int(input('At what age would you like to retire? :'))\n",
    "curr_year = date.today().year\n",
    "\n",
    "if ret_age-age < 0:\n",
    "    print(\"You can already retire\")\n",
    "else:\n",
    "    print(\"You have\",ret_age-age,\"years left until you can retire.\")\n",
    "    print(\"Its\",curr_year,\", so you can retire in \",curr_year + (ret_age - age))"
   ]
  },
  {
   "cell_type": "code",
   "execution_count": null,
   "id": "6e7dfb32",
   "metadata": {},
   "outputs": [],
   "source": []
  }
 ],
 "metadata": {
  "kernelspec": {
   "display_name": "Python 3",
   "language": "python",
   "name": "python3"
  },
  "language_info": {
   "codemirror_mode": {
    "name": "ipython",
    "version": 3
   },
   "file_extension": ".py",
   "mimetype": "text/x-python",
   "name": "python",
   "nbconvert_exporter": "python",
   "pygments_lexer": "ipython3",
   "version": "3.8.8"
  }
 },
 "nbformat": 4,
 "nbformat_minor": 5
}
