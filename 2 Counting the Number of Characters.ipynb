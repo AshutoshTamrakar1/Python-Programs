{
 "cells": [
  {
   "cell_type": "markdown",
   "id": "2e06d54c",
   "metadata": {},
   "source": [
    "### Create a program that prompts for an input string and displays output that shows the input string and the number of characters the string contains."
   ]
  },
  {
   "cell_type": "markdown",
   "id": "815dbeab",
   "metadata": {},
   "source": [
    "__Example Output__\n",
    "\n",
    "What is the input string? Homer\n",
    "\n",
    "Homer has 5 characters.\n",
    "\n",
    "__Constraints__\n",
    "\n",
    "• Be sure the output contains the original string.\n",
    "\n",
    "• Use a single output statement to construct the output.\n",
    "\n",
    "• Use a built-in function of the programming language to determine the length of the string."
   ]
  },
  {
   "cell_type": "code",
   "execution_count": 1,
   "id": "3fcfaf4e",
   "metadata": {},
   "outputs": [
    {
     "name": "stdout",
     "output_type": "stream",
     "text": [
      "What is the input string? Homer\n",
      "Homer has 5 characters\n"
     ]
    }
   ],
   "source": [
    "string = input(\"What is the input string? \")\n",
    "print(string,\"has\",len(string),\"characters\")"
   ]
  },
  {
   "cell_type": "code",
   "execution_count": 2,
   "id": "78845952",
   "metadata": {},
   "outputs": [
    {
     "name": "stdout",
     "output_type": "stream",
     "text": [
      "What is the input string? Karen is learning\n",
      "Karen is learning has 17 characters\n"
     ]
    }
   ],
   "source": [
    "string = input(\"What is the input string? \")\n",
    "print(string,\"has\",len(string),\"characters\")"
   ]
  },
  {
   "cell_type": "markdown",
   "id": "e8d55144",
   "metadata": {},
   "source": [
    "__Challenges__\n",
    "\n",
    "• If the user enters nothing, state that the user must enter something into the program."
   ]
  },
  {
   "cell_type": "code",
   "execution_count": 3,
   "id": "09dc8119",
   "metadata": {},
   "outputs": [
    {
     "name": "stdout",
     "output_type": "stream",
     "text": [
      "What is the input string? \n",
      "You must enter something\n",
      "What is the input string? \n",
      "You must enter something\n",
      "What is the input string? \n",
      "You must enter something\n",
      "What is the input string? Practice makes man perfect \n",
      "Practice makes man perfect  has 27 characters\n"
     ]
    }
   ],
   "source": [
    "string = input(\"What is the input string? \")\n",
    "while len(string) == 0:\n",
    "    print(\"You must enter something\")\n",
    "    string = input(\"What is the input string? \")\n",
    "    \n",
    "print(string,\"has\",len(string),\"characters\")"
   ]
  },
  {
   "cell_type": "code",
   "execution_count": null,
   "id": "b2b5f1b5",
   "metadata": {},
   "outputs": [],
   "source": []
  }
 ],
 "metadata": {
  "kernelspec": {
   "display_name": "Python 3",
   "language": "python",
   "name": "python3"
  },
  "language_info": {
   "codemirror_mode": {
    "name": "ipython",
    "version": 3
   },
   "file_extension": ".py",
   "mimetype": "text/x-python",
   "name": "python",
   "nbconvert_exporter": "python",
   "pygments_lexer": "ipython3",
   "version": "3.8.8"
  }
 },
 "nbformat": 4,
 "nbformat_minor": 5
}
