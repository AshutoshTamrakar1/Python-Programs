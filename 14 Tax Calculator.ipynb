{
 "cells": [
  {
   "cell_type": "markdown",
   "id": "2fdd04f4",
   "metadata": {},
   "source": [
    "### Write a simple program to compute the tax on an order amount. The program should prompt for the order amount and the state. If the state is “WI,” then the order must be charged 5.5% tax. The program should display the subtotal, tax, and total for Wisconsin residents but display just the total for non-residents."
   ]
  },
  {
   "cell_type": "markdown",
   "id": "8b06340d",
   "metadata": {},
   "source": [
    "__Example Output__\n",
    "\n",
    "What is the order amount? 10\n",
    "\n",
    "What is the state? WI\n",
    "\n",
    "The subtotal is $10.00.\n",
    "\n",
    "The tax is $0.55.\n",
    "\n",
    "The total is $10.55.\n",
    "\n",
    "Or\n",
    "\n",
    "What is the order amount? 10\n",
    "\n",
    "What is the state? MN\n",
    "\n",
    "The total is $10.00\n",
    "\n",
    "__Constraints__\n",
    "\n",
    "• Implement this program using only a simple if statement— don’t use an else clause.\n",
    "\n",
    "• Ensure that all money is rounded up to the nearest cent.\n",
    "\n",
    "• Use a single output statement at the end of the program to display the program results."
   ]
  },
  {
   "cell_type": "code",
   "execution_count": 3,
   "id": "2caf1370",
   "metadata": {},
   "outputs": [
    {
     "name": "stdout",
     "output_type": "stream",
     "text": [
      "What is the order amount?10\n",
      "What is the state?MN\n",
      "The total is $ 10\n"
     ]
    }
   ],
   "source": [
    "A = int(input('What is the order amount?'))\n",
    "S = input('What is the state?' )\n",
    "t=0\n",
    "if S == 'WI':\n",
    "    print('The subtotal is $',A)\n",
    "    t=A*(5.5/100)\n",
    "    print('The tax is $',t)\n",
    "    \n",
    "print('The total is $',A+t)"
   ]
  },
  {
   "cell_type": "code",
   "execution_count": 4,
   "id": "c105503e",
   "metadata": {},
   "outputs": [
    {
     "name": "stdout",
     "output_type": "stream",
     "text": [
      "What is the order amount?10\n",
      "What is the state?WI\n",
      "The subtotal is $ 10\n",
      "The tax is $ 0.55\n",
      "The total is $ 10.55\n"
     ]
    }
   ],
   "source": [
    "A = int(input('What is the order amount?'))\n",
    "S = input('What is the state?' )\n",
    "t=0\n",
    "if S == 'WI':\n",
    "    print('The subtotal is $',A)\n",
    "    t=A*(5.5/100)\n",
    "    print('The tax is $',t)\n",
    "    \n",
    "print('The total is $',A+t)"
   ]
  },
  {
   "cell_type": "code",
   "execution_count": null,
   "id": "21819967",
   "metadata": {},
   "outputs": [],
   "source": []
  }
 ],
 "metadata": {
  "kernelspec": {
   "display_name": "Python 3",
   "language": "python",
   "name": "python3"
  },
  "language_info": {
   "codemirror_mode": {
    "name": "ipython",
    "version": 3
   },
   "file_extension": ".py",
   "mimetype": "text/x-python",
   "name": "python",
   "nbconvert_exporter": "python",
   "pygments_lexer": "ipython3",
   "version": "3.8.8"
  }
 },
 "nbformat": 4,
 "nbformat_minor": 5
}
